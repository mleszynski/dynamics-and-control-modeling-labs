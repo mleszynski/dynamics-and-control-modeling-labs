{
 "cells": [
  {
   "cell_type": "markdown",
   "metadata": {},
   "source": [
    "<h1 align=\"center\">Volume 4: River Crossing.</h1>\n",
    "\n",
    "    Marcelo Leszynski\n",
    "    Section 002\n",
    "    02/21/2022"
   ]
  },
  {
   "cell_type": "code",
   "execution_count": 3,
   "metadata": {},
   "outputs": [],
   "source": [
    "import numpy as np\n",
    "from scipy.optimize import minimize, root\n",
    "from scipy.integrate import quad\n",
    "from matplotlib import pyplot as plt"
   ]
  },
  {
   "cell_type": "markdown",
   "metadata": {},
   "source": [
    "# Problem 1\n",
    "Assume that the current is given by $c(x) = −\n",
    "\\frac{7}{10} (x^2 − 1)$. (This function assumes, for example, that the current is faster near the center of the river.) Write a Python\n",
    "function that accepts as arguments a function $y$, its derivative $y'$, and an $x$-value, and returns $L(x, y(x), y'(x))$ (where $T[y]=\\int^1_{-1} L(x,y(x),y'(x))dx$ Use that function to defune a second\n",
    "function that numerically computes $T[y]$ for a given path $y(x)$."
   ]
  },
  {
   "cell_type": "code",
   "execution_count": 14,
   "metadata": {},
   "outputs": [],
   "source": [
    "def lagrangian(x, y=None, y_p=None):\n",
    "    # calculate and return the lagrangian ##############################\n",
    "    c = -0.7*(x**2 - 1)\n",
    "    alpha = (1 - c**2)**(-0.5)\n",
    "    lagrangian = alpha * np.sqrt(1 + (alpha*y_p(x))**2) - (alpha**2)*c*y_p(x)\n",
    "    \n",
    "    return lagrangian\n",
    "\n",
    "\n",
    "T_functional = lambda a, b, y, y_p: quad(lagrangian, a, b, args=(y, y_p))[0]"
   ]
  },
  {
   "cell_type": "markdown",
   "metadata": {},
   "source": [
    "# Problem 2\n",
    "\n",
    "Let y(x) be the straight-line path between A = (−1, 0) and B = (1, 5). Numerically calculate T[y] to get an upper bound on the minimum time required to cross from A to\n",
    "B. Using (18.2), find a lower bound on the minimum time required to cross."
   ]
  },
  {
   "cell_type": "code",
   "execution_count": 15,
   "metadata": {},
   "outputs": [
    {
     "name": "stdout",
     "output_type": "stream",
     "text": [
      "Upper bound:\n",
      "3.8770820491384126\n",
      "\n",
      "Lower bound:\n",
      "2\n"
     ]
    }
   ],
   "source": [
    "# initialize line values between A and B ###############################\n",
    "y = lambda x: 2.5*x + 2.5\n",
    "y_p = lambda x: 2.5\n",
    "\n",
    "# print results ########################################################\n",
    "print(\"Upper bound:\")\n",
    "print(T_functional(-1, 1, y, y_p))\n",
    "print(\"\\nLower bound:\\n2\")"
   ]
  },
  {
   "cell_type": "markdown",
   "metadata": {},
   "source": [
    "# Problem 3\n",
    "\n",
    "Numerically solve the Euler-Lagrange equation (18.4), using c(x) = −\n",
    "7\n",
    "10 (x\n",
    "2 − 1)\n",
    "and α = (1 − c\n",
    "2\n",
    ")\n",
    "−1/2\n",
    ", and y(−1) = 0, y(1) = 5.\n",
    "Hint: Since this boundary value problem is defined over the doimain [−1, 1], it is easy to\n",
    "solve using the pseudospectral method. Begin by replacing each d\n",
    "dx with the pseudospectral\n",
    "differentiation matrix D. Then impose the boundary conditions and solve."
   ]
  },
  {
   "cell_type": "code",
   "execution_count": 18,
   "metadata": {},
   "outputs": [
    {
     "data": {
      "image/png": "[encoded data removed]",
      "text/plain": [
       "<Figure size 432x288 with 1 Axes>"
      ]
     },
     "metadata": {
      "needs_background": "light"
     },
     "output_type": "display_data"
    }
   ],
   "source": [
    "# using the pseudospectral method ######################################\n",
    "def cheb(N):\n",
    "    x = np.cos((np.pi/N)*np.linspace(0, N, N + 1))\n",
    "    x.shape = (N + 1, 1)\n",
    "    lin = np.linspace(0, N, N + 1)\n",
    "    lin.shape = (N + 1, 1)\n",
    "    c = np.ones((N + 1, 1))\n",
    "    c[0], c[-1] = 2., 2.\n",
    "    c = c*(-1.)**lin\n",
    "    X = x*np.ones(N + 1)\n",
    "    dX = X - X.T\n",
    "    \n",
    "    # prep and return diff matrix and Chebyshev points #################\n",
    "    D = (c*(1./c).T)/(dX + np.eye(N+1))\n",
    "    D = D - np.diag(np.sum(D.T,axis=0))\n",
    "    x.shape = (N+1,)\n",
    "    \n",
    "    return D, x\n",
    "\n",
    "\n",
    "D, x = cheb(150)\n",
    "\n",
    "\n",
    "def EL(y):\n",
    "    c = -0.7*(x**2 - 1)\n",
    "    alpha = (1-c**2)**(-0.5)\n",
    "    \n",
    "    # calculate EL and return boundary conditions ######################\n",
    "    dy = D @ y\n",
    "    F = D @ (alpha**3 * dy * (1 + (alpha*dy)**2)**(-0.5) - alpha**2 * c)\n",
    "    F[0] = y[0] - 5\n",
    "    F[-1] = y[-1]\n",
    "    \n",
    "    return F\n",
    "\n",
    "# solve and plot results ###############################################\n",
    "y = root(EL, 2.5*x + 2.5).x\n",
    "plt.plot(x, y, label=\"Numerical Solution\")\n",
    "plt.plot(x, 2.5*x + 2.5, label=\"Initial Guess\")\n",
    "plt.legend()\n",
    "plt.title(\"Prob 3\")\n",
    "plt.show()"
   ]
  },
  {
   "cell_type": "markdown",
   "metadata": {},
   "source": [
    "# Problem 4\n",
    "\n",
    "Plot the angle at which the boat should be pointed at each $x$-coordinate. (Hint: use Equation 1.1; see Figure 1.3. Note that the angle the boat should be steered is NOT described by the tangent vector to the trjaectory)"
   ]
  },
  {
   "cell_type": "code",
   "execution_count": 19,
   "metadata": {
    "scrolled": false
   },
   "outputs": [
    {
     "data": {
      "image/png": "[encoded data removed]",
      "text/plain": [
       "<Figure size 432x288 with 1 Axes>"
      ]
     },
     "metadata": {
      "needs_background": "light"
     },
     "output_type": "display_data"
    }
   ],
   "source": [
    "# get y_p and set up equation ##########################################\n",
    "dy = D @ y\n",
    "c = -0.7*(x**2 - 1)\n",
    "eq_71 = lambda theta: c*(1/np.cos(theta)) + np.tan(theta) - dy\n",
    "\n",
    "# solve and plot results ###############################################\n",
    "theta_vals = root(eq_71, np.ones(151)).x\n",
    "plt.plot(x, theta_vals)\n",
    "plt.ylim(0, np.pi/2)\n",
    "plt.xlabel(\"x\")\n",
    "plt.ylabel(\"$\\Theta$\")\n",
    "plt.title(\"Prob 4\")\n",
    "plt.show()"
   ]
  }
 ],
 "metadata": {
  "kernelspec": {
   "display_name": "Python 3",
   "language": "python",
   "name": "python3"
  },
  "language_info": {
   "codemirror_mode": {
    "name": "ipython",
    "version": 3
   },
   "file_extension": ".py",
   "mimetype": "text/x-python",
   "name": "python",
   "nbconvert_exporter": "python",
   "pygments_lexer": "ipython3",
   "version": "3.7.11"
  }
 },
 "nbformat": 4,
 "nbformat_minor": 4
}
