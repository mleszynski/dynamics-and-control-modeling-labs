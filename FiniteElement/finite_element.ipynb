{
 "cells": [
  {
   "cell_type": "code",
   "execution_count": 1,
   "metadata": {},
   "outputs": [],
   "source": [
    "import scipy as sp\n",
    "from scipy.sparse import spdiags\n",
    "from scipy.sparse import diags\n",
    "from scipy.sparse.linalg import spsolve\n",
    "import numpy as np\n",
    "import matplotlib.pyplot as plt"
   ]
  },
  {
   "cell_type": "markdown",
   "metadata": {},
   "source": [
    "# Problem 1\n",
    "\n",
    "Use the finite element method to solve\n",
    " \n",
    "εy\" − y' = −1,\n",
    "\n",
    "y(0) = α, y(1) = β,\n",
    "\n",
    "\n",
    "where α = 2, β = 4, and ε = 0.02. Use N = 100 finite elements (101 grid points). Compare\n",
    "your solution with the analytic solution\n",
    "\n",
    "y(x) = α + x + (β − α − 1)* (e^(x/ε) − 1)/(e^(1/ε) − 1) by graphing.\n"
   ]
  },
  {
   "cell_type": "code",
   "execution_count": 37,
   "metadata": {},
   "outputs": [
    {
     "name": "stdout",
     "output_type": "stream",
     "text": [
      "[1, [2, 2, 2], 4, [3, 3, 3, 3, 3]]\n"
     ]
    }
   ],
   "source": [
    "trying = [1, [2]*3, 4]\n",
    "trying.append([3]*5)\n",
    "print(trying)"
   ]
  },
  {
   "cell_type": "code",
   "execution_count": 27,
   "metadata": {
    "scrolled": true
   },
   "outputs": [
    {
     "data": {
      "image/png": "[encoded data removed]",
      "text/plain": [
       "<Figure size 432x288 with 1 Axes>"
      ]
     },
     "metadata": {
      "needs_background": "light"
     },
     "output_type": "display_data"
    }
   ],
   "source": [
    "# initialize our explicit values for our matrices ######################\n",
    "N = np.linspace(0,1,101)\n",
    "alpha = 2\n",
    "beta = 4\n",
    "eps = 0.02\n",
    "h_i = N[2]-N[1] # we can hardcode these vals since points are evenly spaced\n",
    "\n",
    "# create and populate the Phi vector for our solver ####################\n",
    "Phi = np.zeros(len(N))\n",
    "Phi[0] = alpha\n",
    "Phi[-1] = beta\n",
    "for i in range(1, len(N)-1):\n",
    "    Phi[i] = -(1./2)*(2*h_i)\n",
    "    \n",
    "# create and populate the A matrix for our solver ######################\n",
    "diag = [1].append([-2.*eps/h_i]*99)\n",
    "diag = diag.append([])\n",
    "            \n",
    "# use the solver to find our solution vector K #########################\n",
    "    \n",
    "\n",
    "\n",
    "# define the analytic solution for a comparison plot ###################\n",
    "def analytic_sol(x):\n",
    "    return 2.+x+1.*(np.exp(x/eps)-1)/(np.exp(1/eps)-1)\n",
    "\n",
    "# plot results #########################################################\n",
    "plt.plot(N, analytic_sol(N), color='red', label='Analytic Solution')\n",
    "plt.legend()\n",
    "plt.show()"
   ]
  },
  {
   "cell_type": "markdown",
   "metadata": {},
   "source": [
    "# Problem 2\n",
    "\n",
    "Compare the numerical solution when the grid points are unevenly spaced versus when the grid points\n",
    "are clustered in the area of greatest change by plotting."
   ]
  },
  {
   "cell_type": "code",
   "execution_count": null,
   "metadata": {},
   "outputs": [],
   "source": []
  },
  {
   "cell_type": "markdown",
   "metadata": {},
   "source": [
    "# Problem 3\n",
    "\n",
    "Solve (11.5) with the finite element method using N = 2^i finite elements, i = 4, 5, . . . , 21.\n",
    "\n",
    "Use a log-log plot to graph the error."
   ]
  },
  {
   "cell_type": "code",
   "execution_count": null,
   "metadata": {},
   "outputs": [],
   "source": []
  }
 ],
 "metadata": {
  "kernelspec": {
   "display_name": "Python 3",
   "language": "python",
   "name": "python3"
  },
  "language_info": {
   "codemirror_mode": {
    "name": "ipython",
    "version": 3
   },
   "file_extension": ".py",
   "mimetype": "text/x-python",
   "name": "python",
   "nbconvert_exporter": "python",
   "pygments_lexer": "ipython3",
   "version": "3.7.11"
  }
 },
 "nbformat": 4,
 "nbformat_minor": 4
}
