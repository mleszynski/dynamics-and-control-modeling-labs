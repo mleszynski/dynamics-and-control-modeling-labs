{
 "cells": [
  {
   "cell_type": "markdown",
   "metadata": {},
   "source": [
    "<h1 align=\"center\">Volume 4: Inverse Problems.</h1>\n",
    "\n",
    "    Marcelo Leszynski\n",
    "    Math 439 Sec 002\n",
    "    03/10/22"
   ]
  },
  {
   "cell_type": "code",
   "execution_count": 1,
   "metadata": {},
   "outputs": [],
   "source": [
    "import numpy as np\n",
    "from matplotlib import pyplot as plt"
   ]
  },
  {
   "cell_type": "code",
   "execution_count": 2,
   "metadata": {},
   "outputs": [],
   "source": [
    "#Code from RK4 Lab with minor edits\n",
    "def initialize_all(y0, t0, t, n):\n",
    "    \"\"\" An initialization routine for the different ODE solving\n",
    "    methods in the lab. This initializes Y, T, and h. \"\"\"\n",
    "    if isinstance(y0, np.ndarray):\n",
    "        Y = np.empty((n, y0.size)).squeeze()\n",
    "    else:\n",
    "        Y = np.empty(n)\n",
    "    \n",
    "    Y[0] = y0\n",
    "    T = np.linspace(t0, t, n)\n",
    "    h = float(t - t0) / (n - 1)\n",
    "    return Y, T, h\n",
    "\n",
    "def RK4(f, y0, t0, t, n):\n",
    "    \"\"\" Use the RK4 method to compute an approximate solution\n",
    "    to the ODE y' = f(t, y) at n equispaced parameter values from t0 to t\n",
    "    with initial conditions y(t0) = y0.\n",
    "    \n",
    "    y0 is assumed to be either a constant or a one-dimensional numpy array.\n",
    "    t and t0 are assumed to be constants.\n",
    "    f is assumed to accept three arguments.\n",
    "    The first is a constant giving the value of t.\n",
    "    The second is a one-dimensional numpy array of the same size as y.\n",
    "    The third is an index to the other arrays.\n",
    "    \n",
    "    This function returns an array Y of shape (n,) if\n",
    "    y is a constant or an array of size 1.\n",
    "    It returns an array of shape (n, y.size) otherwise.\n",
    "    In either case, Y[i] is the approximate value of y at\n",
    "    the i'th value of np.linspace(t0, t, n).\n",
    "    \"\"\"\n",
    "    Y,T,h = initialize_all(y0,t0,t,n)\n",
    "    for i in range(n-1):\n",
    "        K1 = f(T[i],Y[i],i)\n",
    "        K2 = f(T[i]+h/2.,Y[i]+h/2.*K1,i)\n",
    "        K3 = f(T[i]+h/2.,Y[i]+h/2.*K2,i)\n",
    "        K4 = f(T[i+1],Y[i]+h*K3,i)\n",
    "        Y[i+1] = Y[i] + h/6.*(K1+2*K2 +2*K3+K4)\n",
    "    return Y"
   ]
  },
  {
   "cell_type": "markdown",
   "metadata": {},
   "source": [
    "# Problem 1\n",
    "\n",
    "Create a function that defines the state equations and returns both equations in\n",
    "a single array. The function should be able to be passed into the RK4 solver."
   ]
  },
  {
   "cell_type": "code",
   "execution_count": 3,
   "metadata": {},
   "outputs": [],
   "source": [
    "# define constants\n",
    "\n",
    "a_1, a_2 = 0, 0\n",
    "b_1, b_2 = 0.02, 0.9\n",
    "s_1, s_2 = 2., 1.5\n",
    "mu = 0.002\n",
    "k = 0.000025    # The paper uses .00025, but it's hard to determine which solution actually makes sense.\n",
    "g = 30.\n",
    "c = 0.007\n",
    "B_1, B_2 = 14, 1\n",
    "A_1, A_2 = 250000, 75\n",
    "T0, V0 = 400, 3\n",
    "t_f = 50\n",
    "n = 2000\n",
    "\n",
    "state = np.zeros((n, 2))\n",
    "state0 = np.array([T0, V0])\n",
    "\n",
    "costate = np.zeros((n, 2))\n",
    "costate0 = np.zeros(2)\n",
    "\n",
    "u=np.zeros((n, 2))\n",
    "u[:, 0] += .02\n",
    "u[:, 1] += .9\n",
    "\n",
    "# define state equations\n",
    "def state_equations(t,y,i):\n",
    "    '''\n",
    "    Parameters\n",
    "    ---------------\n",
    "    t : float\n",
    "        the time\n",
    "    y : ndarray (2,)\n",
    "        the T cell concentration and the Virus concentration at time t\n",
    "    i : int\n",
    "        index for the global variable u.\n",
    "    \n",
    "    Returns\n",
    "    --------------\n",
    "    y_dot : ndarray (2,)\n",
    "            the derivative of the T cell concentration and the virus\n",
    "            concentration at time t\n",
    "    '''\n",
    "    # calculate both state equations ###################################\n",
    "    T_t, V_t = y\n",
    "    T_p = s_1 - ((s_2*V_t)/(B_1 + V_t)) - (mu*T_t) - (k*V_t*T_t) + (u[i, 0]*T_t)\n",
    "    V_p = ((g*V_t)/(B_2 + V_t))*(1 - u[i, 1]) - (c*V_t*T_t)\n",
    "    \n",
    "    return np.array([T_p, V_p]) "
   ]
  },
  {
   "cell_type": "markdown",
   "metadata": {},
   "source": [
    "# Problem 2\n",
    "\n",
    "Create a function that defines the costate equations and returns both equations\n",
    "in a single array. The function should be able to be passed into the RK4 solver. Use the global\n",
    "variables as defined in Problem 1."
   ]
  },
  {
   "cell_type": "code",
   "execution_count": 4,
   "metadata": {},
   "outputs": [],
   "source": [
    "def lambda_hat(t,y,i):\n",
    "    '''\n",
    "    Parameters\n",
    "    ---------------\n",
    "    t : float\n",
    "    the time\n",
    "    y : ndarray (2,)\n",
    "    the lambda_hat values at time t\n",
    "    i : int\n",
    "    index for global variables, u and state.\n",
    "    Returns\n",
    "    --------------\n",
    "    y_dot : ndarray (2,)\n",
    "    the derivative of the lambda_hats at time t.\n",
    "    '''\n",
    "    # calculate both costate equations #################################\n",
    "    l_1, l_2 = y\n",
    "    T, V = state[-i - 1]\n",
    "    lambhat_1 = l_1*(-mu - (k*V) + u[-i - 1, 0]) - (c*l_2*V) + 1\n",
    "    lambhat_2 = -l_1*(((s_2*B_1)/((B_1 + V)**2)) + (k*T)) +\\\n",
    "        l_2*(((g*B_2*(1 - u[-i - 1, 1]))/((B_2 + V)**2)) - (c*T))\n",
    "    \n",
    "    return np.array([lambhat_1,lambhat_2])"
   ]
  },
  {
   "cell_type": "markdown",
   "metadata": {},
   "source": [
    "# Problem 3\n",
    "\n",
    "Create and run a numerical solver for the HIV two drug model. Plot the solution."
   ]
  },
  {
   "cell_type": "code",
   "execution_count": 5,
   "metadata": {},
   "outputs": [],
   "source": [
    "epsilon = 0.001\n",
    "test = epsilon + 1\n",
    "while(test > epsilon):\n",
    "    oldu = u.copy();\n",
    "    \n",
    "    #solve the state equations with forward iteration\n",
    "    state = RK4(state_equations, state0, 0, t_f, n)\n",
    "    \n",
    "    #solve the costate equations with backwards iteration\n",
    "    costate = RK4(lambda_hat, costate0, 0, t_f, n)[::-1]\n",
    "    \n",
    "    #solve for u1 and u2\n",
    "    u1 = np.minimum(np.maximum(a_1, (1/(2*A_1))*(costate[:, 0]*state[:, 0])), b_1)\n",
    "    u2 = np.minimum(np.maximum(a_2, (-costate[:, 1]/(2*A_2))*\\\n",
    "                               (g*state[:, 1]/(B_2 + state[:, 1]))), b_2)\n",
    "    \n",
    "    #update control\n",
    "    u[:,0] = 0.5*(u1 + oldu[:,0])\n",
    "    u[:,1] = 0.5*(u2 + oldu[:,1])\n",
    "    \n",
    "    #test for convergence\n",
    "    test = abs(oldu - u).sum()"
   ]
  },
  {
   "cell_type": "code",
   "execution_count": 6,
   "metadata": {},
   "outputs": [
    {
     "data": {
      "image/png": "[encoded data removed]",
      "text/plain": [
       "<Figure size 720x576 with 4 Axes>"
      ]
     },
     "metadata": {
      "needs_background": "light"
     },
     "output_type": "display_data"
    }
   ],
   "source": [
    "# plot results of solver ###############################################\n",
    "fig, ax = plt.subplots(2, 2, figsize=(10, 8))\n",
    "r = np.linspace(0, t_f, n)\n",
    "\n",
    "ax[0, 0].plot(r, state[:, 0])\n",
    "ax[0, 0].set_ylabel('$T$')\n",
    "ax[0, 0].set_xlim([0, 50])\n",
    "\n",
    "ax[0, 1].plot(r, state[:, 1])\n",
    "ax[0, 1].set_ylabel('$V$')\n",
    "ax[0, 1].set_xlim([0, 50])\n",
    "\n",
    "ax[1, 0].plot(r, u1)\n",
    "ax[1, 0].set_xlabel('Days')\n",
    "ax[1, 0].set_ylabel('$u_1$')\n",
    "ax[1, 0].set_xlim([0, 50])\n",
    "\n",
    "ax[1, 1].plot(r, u2)\n",
    "ax[1, 1].set_xlabel('Days')\n",
    "ax[1, 1].set_ylabel('$u_2$')\n",
    "ax[1, 1].set_xlim([0, 50])\n",
    "\n",
    "plt.tight_layout()\n",
    "plt.show()"
   ]
  }
 ],
 "metadata": {
  "kernelspec": {
   "display_name": "Python 3",
   "language": "python",
   "name": "python3"
  },
  "language_info": {
   "codemirror_mode": {
    "name": "ipython",
    "version": 3
   },
   "file_extension": ".py",
   "mimetype": "text/x-python",
   "name": "python",
   "nbconvert_exporter": "python",
   "pygments_lexer": "ipython3",
   "version": "3.7.11"
  }
 },
 "nbformat": 4,
 "nbformat_minor": 4
}
