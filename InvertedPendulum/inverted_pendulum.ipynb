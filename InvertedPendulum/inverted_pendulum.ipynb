{
 "cells": [
  {
   "cell_type": "markdown",
   "metadata": {},
   "source": [
    "<h1 align=\"center\">Volume 4: Inverse Problems.</h1>\n",
    "\n",
    "    Marcelo Leszynski\n",
    "    Section 002\n",
    "    03/26/22"
   ]
  },
  {
   "cell_type": "code",
   "execution_count": 1,
   "metadata": {},
   "outputs": [],
   "source": [
    "import numpy as np\n",
    "from scipy.optimize import root\n",
    "from scipy.integrate import odeint, solve_ivp\n",
    "from scipy.linalg import solve_continuous_are\n",
    "from matplotlib import pyplot as plt"
   ]
  },
  {
   "cell_type": "markdown",
   "metadata": {},
   "source": [
    "# Problem 1\n",
    "\n",
    "Write a function that returns the matrices A, B, Q, and R given above. Let\n",
    "g = 9.8 m/s\n",
    "2\n",
    "."
   ]
  },
  {
   "cell_type": "code",
   "execution_count": 2,
   "metadata": {},
   "outputs": [],
   "source": [
    "def linearized_init(M, m, l, q1, q2, q3, q4, r):\n",
    "    '''\n",
    "    Parameters:\n",
    "    ----------\n",
    "    M, m: floats\n",
    "          masses of the rickshaw and the present\n",
    "    l   : float\n",
    "          length of the rod\n",
    "    q1, q2, q3, q4, r : floats\n",
    "        relative weights of the position and velocity of the rickshaw, the\n",
    "        angular displacement theta and the change in theta, and the control\n",
    "\n",
    "\n",
    "    Return\n",
    "    -------\n",
    "    A : ndarray of shape (4,4)\n",
    "    B : ndarray of shape (4,1)\n",
    "    Q : ndarray of shape (4,4)\n",
    "    R : ndarray of shape (1,1)\n",
    "    '''\n",
    "    \n",
    "    # initialize values ################################################\n",
    "    Q = np.diag((q1, q2, q3, q4))\n",
    "    A = np.array([[0, 1, 0, 0], [0, 0, m*9.8/M, 0], [0, 0, 0, 1],\\\n",
    "                  [0, 0, (9.8/(M*l))*(M + m), 0]])\n",
    "    B = np.array([0, 1/M, 0, 1/(M*l)])\n",
    "    R = np.array([[r]])\n",
    "    \n",
    "    return A, B, Q, R"
   ]
  },
  {
   "cell_type": "markdown",
   "metadata": {},
   "source": [
    "# Problem 2\n",
    "\n",
    "Write the following function to find the matrix P. Use scipy.optimize.root.\n",
    "Since root takes in a vector and not a matrix, you will have to reshape the matrix P before\n",
    "passing it in and after getting your result, using np.reshape(16) and np.reshape((4,4))."
   ]
  },
  {
   "cell_type": "code",
   "execution_count": 3,
   "metadata": {},
   "outputs": [],
   "source": [
    "def find_P(A,B,Q,R):\n",
    "    '''\n",
    "    Parameters:\n",
    "    ----------\n",
    "    A, B, Q : ndarrays of shape (4,4)\n",
    "    R : ndarray of shape (1,1)\n",
    "    \n",
    "    Returns\n",
    "    -------\n",
    "    P : the matrix solution of the Riccati equation\n",
    "    '''\n",
    "    def riccati(P):\n",
    "        P = P.reshape((4, 4))\n",
    "        ricc_eq = (P@A) + (A.T@P) + (Q) - ((P@np.outer(B, B.T)@P)*(1/R))\n",
    "        \n",
    "        return ricc_eq.flatten()\n",
    "    \n",
    "    return root(riccati, np.ones(16)).x"
   ]
  },
  {
   "cell_type": "code",
   "execution_count": 5,
   "metadata": {},
   "outputs": [
    {
     "name": "stdout",
     "output_type": "stream",
     "text": [
      "[-1.72875212+0.j         -0.07538846+0.07490226j -0.07538846-0.07490226j\n",
      "  1.72530814+0.j        ]\n",
      "Positive eigenvalues imply that z may approach zero and we may have asymptotic stability.\n"
     ]
    }
   ],
   "source": [
    "# initialize values ####################################################\n",
    "M, m = 23., 5.\n",
    "l = 4.\n",
    "q1, q2, q3, q4 = 1., 1., 1., 1.\n",
    "r = 10.\n",
    "A,B,Q,R = linearized_init(M, m, l, q1, q2, q3, q4, r)\n",
    "\n",
    "# find and print eigenvalues of the system #############################\n",
    "P = find_P(A, B, Q, R)\n",
    "P = P.reshape((4, 4))\n",
    "test = A - (np.outer(B, B.T)@P)*(1/R)\n",
    "print(np.linalg.eig(test)[0])\n",
    "print(\"Positive eigenvalues imply that z may approach zero and we may have asymptotic stability.\")"
   ]
  },
  {
   "cell_type": "markdown",
   "metadata": {},
   "source": [
    " Problem 3\n",
    " \n",
    "Write the following function that implements the LQR solution described earlier.\n",
    "For the IVP solver, you can use your own or you may use the function odeint from scipy.\n",
    "integrate."
   ]
  },
  {
   "cell_type": "code",
   "execution_count": 7,
   "metadata": {},
   "outputs": [],
   "source": [
    "def rickshaw(tv, X0, A, B, Q, R, P):\n",
    "    '''\n",
    "    Parameters:\n",
    "    ----------\n",
    "    tv : ndarray of time values, with shape (n+1,)\n",
    "    X0 : Initial conditions on state variables\n",
    "    A, Q: ndarrays of shape (4,4)\n",
    "    B : ndarray of shape (4,1)\n",
    "    R : ndarray of shape (1,1)\n",
    "    P : ndarray of shape (4,4)\n",
    "    Returns\n",
    "    -------\n",
    "    Z : ndarray of shape (n+1,4), the state vector at each time\n",
    "    U : ndarray of shape (n+1,), the control values\n",
    "    '''\n",
    "    z_matrix = A - (np.outer(B,B.T)@P)*(1/R)\n",
    "    \n",
    "    def ode(t, z):\n",
    "        return z_matrix@z\n",
    "    \n",
    "    sol = solve_ivp(ode, tv, X0, t_eval=np.linspace(0, tv[1], 100))\n",
    "    Z = sol.y\n",
    "    U = (-1/R)*B.T@P@Z\n",
    "    \n",
    "    return Z, U"
   ]
  },
  {
   "cell_type": "markdown",
   "metadata": {},
   "source": [
    "# Problem 4\n",
    "\n",
    "Test the function made in Problem (3). Find the matrix P using the scipy.optimize.root method with tf=6 as well as the solve_continuous_are\n",
    "method with tf=60. Plot the solutions z˜ and u˜. Compare your results as shown in Figure\n",
    "21.3."
   ]
  },
  {
   "cell_type": "code",
   "execution_count": 8,
   "metadata": {},
   "outputs": [],
   "source": [
    "M, m = 23., 5.\n",
    "l = 4.\n",
    "q1, q2, q3, q4 = 1., 1., 1., 1.\n",
    "r = 10.\n",
    "tf = None\n",
    "X0 = np.array([-1, -1, .1, -.2])"
   ]
  },
  {
   "cell_type": "code",
   "execution_count": 14,
   "metadata": {},
   "outputs": [
    {
     "data": {
      "image/png": "[encoded data removed]",
      "text/plain": [
       "<Figure size 432x288 with 1 Axes>"
      ]
     },
     "metadata": {
      "needs_background": "light"
     },
     "output_type": "display_data"
    }
   ],
   "source": [
    "# initialize values ####################################################\n",
    "A,B,Q,R = linearized_init(M, m, l, q1, q2, q3, q4, r)\n",
    "P = find_P(A, B, Q, R)\n",
    "P = P.reshape((4, 4))\n",
    "tf = 6\n",
    "tv = (0, tf)\n",
    "\n",
    "# calculate and plot results ###########################################\n",
    "Z, U = rickshaw(tv, X0, A, B, Q, R, P)\n",
    "domain = np.linspace(0, tf, 100)\n",
    "plt.plot(domain, Z.T, label=['$x$', '$x\\'$', '$\\\\theta$', '$\\\\theta\\'$'])\n",
    "plt.plot(domain, U.T, label = '$u$')\n",
    "plt.title('Prob 4: Root')\n",
    "plt.legend()\n",
    "plt.show()"
   ]
  },
  {
   "cell_type": "code",
   "execution_count": 15,
   "metadata": {},
   "outputs": [
    {
     "data": {
      "image/png": "[encoded data removed]",
      "text/plain": [
       "<Figure size 432x288 with 1 Axes>"
      ]
     },
     "metadata": {
      "needs_background": "light"
     },
     "output_type": "display_data"
    }
   ],
   "source": [
    "# initialize values ####################################################\n",
    "A,B,Q,R = linearized_init(M, m, l, q1, q2, q3, q4, r)\n",
    "P = solve_continuous_are(A, B.reshape(-1, 1), Q, R)\n",
    "P = P.reshape((4, 4))\n",
    "tf = 60\n",
    "tv = (0, tf)\n",
    "\n",
    "# calculate and plot results ###########################################\n",
    "Z, U = rickshaw(tv, X0, A, B, Q, R, P)\n",
    "domain = np.linspace(0, tf, 100)\n",
    "plt.plot(domain, Z.T, label=['$x$', '$x\\'$', '$\\\\theta$', '$\\\\theta\\'$'])\n",
    "plt.plot(domain, U.T, label = '$u$')\n",
    "plt.title('Prob 4: continous_are()')\n",
    "plt.legend()\n",
    "plt.show()"
   ]
  }
 ],
 "metadata": {
  "kernelspec": {
   "display_name": "Python 3",
   "language": "python",
   "name": "python3"
  },
  "language_info": {
   "codemirror_mode": {
    "name": "ipython",
    "version": 3
   },
   "file_extension": ".py",
   "mimetype": "text/x-python",
   "name": "python",
   "nbconvert_exporter": "python",
   "pygments_lexer": "ipython3",
   "version": "3.7.11"
  }
 },
 "nbformat": 4,
 "nbformat_minor": 4
}
